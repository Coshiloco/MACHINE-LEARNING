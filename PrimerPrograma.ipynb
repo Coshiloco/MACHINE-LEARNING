{
  "nbformat": 4,
  "nbformat_minor": 0,
  "metadata": {
    "colab": {
      "name": "PrimerPrograma.ipynb",
      "provenance": [],
      "authorship_tag": "ABX9TyO2mvBBMD20gSHa1q+8gT/H",
      "include_colab_link": true
    },
    "kernelspec": {
      "name": "python3",
      "display_name": "Python 3"
    },
    "language_info": {
      "name": "python"
    }
  },
  "cells": [
    {
      "cell_type": "markdown",
      "metadata": {
        "id": "view-in-github",
        "colab_type": "text"
      },
      "source": [
        "<a href=\"https://colab.research.google.com/github/Coshiloco/MACHINE-LEARNING/blob/main/PrimerPrograma.ipynb\" target=\"_parent\"><img src=\"https://colab.research.google.com/assets/colab-badge.svg\" alt=\"Open In Colab\"/></a>"
      ]
    },
    {
      "cell_type": "code",
      "metadata": {
        "colab": {
          "base_uri": "https://localhost:8080/"
        },
        "id": "JF_SIXs50Z5y",
        "outputId": "3246938b-ad18-4e2a-b78b-90aebfbcc7b5"
      },
      "source": [
        "#Importamos version de tensorflow\n",
        "%tensorflow_version 2.x\n",
        "#Importamos la libreria de tensorflow que necesitamos\n",
        "import tensorflow as tf\n",
        "print(tf.version)\n",
        "\n",
        "#Creamos un vector basico de tensorflow que es una lista en python\n",
        "tz = tf.zeros([5,5,5,5])\n",
        "'''Los tensores son matrices multidimensionales con un tipo uniforme (llamado un dtype ). Puede ver todos soportados dtypes en tf.dtypes.DType .\n",
        "\n",
        "Si está familiarizado con NumPy , tensores son (o algo así) como np.arrays .\n",
        "\n",
        "Todos los tensores son inmutables como los números y las cadenas de Python: nunca se puede actualizar el contenido de un tensor, solo crear uno nuevo.'''\n",
        "\n",
        "'''Lo que te va a dar es una matriz con dentro de ella 5 metrizes con 5 filas cada matriz de esas 5 matrices dentro de la matriz\n",
        "con 5 columnas en cada matriz dentro de la matriz y con 5 elementos cada filas de la matriz como el largo por asi decirlo'''\n",
        "\n",
        "#print(tz)\n",
        "\n",
        "\n",
        "#Puedo reformar la matriz con la instrucion reshape de la siguiente forma\n",
        "\n",
        "tz = tf.reshape(tz,[625])\n",
        "\n",
        "#De la manera de arriba hemos hecho la matriz de manera grande es deicr la hemos juntado\n",
        "\n",
        "#print(tz)\n",
        "\n",
        "''' Tambien podemos reforma la matriz en dos dimensaiones la dimension -1 significa que toma como referencia el valo que le dimos inicialmente\n",
        "que fue 5 para ello vamos a comprobarlo'''\n",
        "\n",
        "tz = tf.reshape(tz,[125,-1])\n",
        "\n",
        "#print(tz)\n",
        "\n",
        "#Podemos reestructurar el tensor incluso de manera unidemensional con un -1 que es lo mismo que sacar la potencia de todas las dimensiones de la matriz\n",
        "\n",
        "'''Como curiosisdad no podemos tener dos dimensiones con -1'''\n",
        "\n",
        "'''Pero si añadimos cualquier otra dimension solo puede haber un -1 y -1 se comportara como la dimensiom que le dimos al principio que es 5\n",
        "junto a otra dimension que nosotros queramos que es por ejemplo 125 por decir asi el -1 funcione como el indice 0\n",
        "de una matriz'''\n",
        "\n",
        "tz = tf.reshape(tz,[-1,])\n",
        "\n",
        "print(tz)\n",
        "\n",
        "#Los tensores que hemos creado son de tipo variable"
      ],
      "execution_count": 7,
      "outputs": [
        {
          "output_type": "stream",
          "name": "stdout",
          "text": [
            "<module 'tensorflow._api.v2.version' from '/usr/local/lib/python3.7/dist-packages/tensorflow/_api/v2/version/__init__.py'>\n",
            "tf.Tensor(\n",
            "[0. 0. 0. 0. 0. 0. 0. 0. 0. 0. 0. 0. 0. 0. 0. 0. 0. 0. 0. 0. 0. 0. 0. 0.\n",
            " 0. 0. 0. 0. 0. 0. 0. 0. 0. 0. 0. 0. 0. 0. 0. 0. 0. 0. 0. 0. 0. 0. 0. 0.\n",
            " 0. 0. 0. 0. 0. 0. 0. 0. 0. 0. 0. 0. 0. 0. 0. 0. 0. 0. 0. 0. 0. 0. 0. 0.\n",
            " 0. 0. 0. 0. 0. 0. 0. 0. 0. 0. 0. 0. 0. 0. 0. 0. 0. 0. 0. 0. 0. 0. 0. 0.\n",
            " 0. 0. 0. 0. 0. 0. 0. 0. 0. 0. 0. 0. 0. 0. 0. 0. 0. 0. 0. 0. 0. 0. 0. 0.\n",
            " 0. 0. 0. 0. 0. 0. 0. 0. 0. 0. 0. 0. 0. 0. 0. 0. 0. 0. 0. 0. 0. 0. 0. 0.\n",
            " 0. 0. 0. 0. 0. 0. 0. 0. 0. 0. 0. 0. 0. 0. 0. 0. 0. 0. 0. 0. 0. 0. 0. 0.\n",
            " 0. 0. 0. 0. 0. 0. 0. 0. 0. 0. 0. 0. 0. 0. 0. 0. 0. 0. 0. 0. 0. 0. 0. 0.\n",
            " 0. 0. 0. 0. 0. 0. 0. 0. 0. 0. 0. 0. 0. 0. 0. 0. 0. 0. 0. 0. 0. 0. 0. 0.\n",
            " 0. 0. 0. 0. 0. 0. 0. 0. 0. 0. 0. 0. 0. 0. 0. 0. 0. 0. 0. 0. 0. 0. 0. 0.\n",
            " 0. 0. 0. 0. 0. 0. 0. 0. 0. 0. 0. 0. 0. 0. 0. 0. 0. 0. 0. 0. 0. 0. 0. 0.\n",
            " 0. 0. 0. 0. 0. 0. 0. 0. 0. 0. 0. 0. 0. 0. 0. 0. 0. 0. 0. 0. 0. 0. 0. 0.\n",
            " 0. 0. 0. 0. 0. 0. 0. 0. 0. 0. 0. 0. 0. 0. 0. 0. 0. 0. 0. 0. 0. 0. 0. 0.\n",
            " 0. 0. 0. 0. 0. 0. 0. 0. 0. 0. 0. 0. 0. 0. 0. 0. 0. 0. 0. 0. 0. 0. 0. 0.\n",
            " 0. 0. 0. 0. 0. 0. 0. 0. 0. 0. 0. 0. 0. 0. 0. 0. 0. 0. 0. 0. 0. 0. 0. 0.\n",
            " 0. 0. 0. 0. 0. 0. 0. 0. 0. 0. 0. 0. 0. 0. 0. 0. 0. 0. 0. 0. 0. 0. 0. 0.\n",
            " 0. 0. 0. 0. 0. 0. 0. 0. 0. 0. 0. 0. 0. 0. 0. 0. 0. 0. 0. 0. 0. 0. 0. 0.\n",
            " 0. 0. 0. 0. 0. 0. 0. 0. 0. 0. 0. 0. 0. 0. 0. 0. 0. 0. 0. 0. 0. 0. 0. 0.\n",
            " 0. 0. 0. 0. 0. 0. 0. 0. 0. 0. 0. 0. 0. 0. 0. 0. 0. 0. 0. 0. 0. 0. 0. 0.\n",
            " 0. 0. 0. 0. 0. 0. 0. 0. 0. 0. 0. 0. 0. 0. 0. 0. 0. 0. 0. 0. 0. 0. 0. 0.\n",
            " 0. 0. 0. 0. 0. 0. 0. 0. 0. 0. 0. 0. 0. 0. 0. 0. 0. 0. 0. 0. 0. 0. 0. 0.\n",
            " 0. 0. 0. 0. 0. 0. 0. 0. 0. 0. 0. 0. 0. 0. 0. 0. 0. 0. 0. 0. 0. 0. 0. 0.\n",
            " 0. 0. 0. 0. 0. 0. 0. 0. 0. 0. 0. 0. 0. 0. 0. 0. 0. 0. 0. 0. 0. 0. 0. 0.\n",
            " 0. 0. 0. 0. 0. 0. 0. 0. 0. 0. 0. 0. 0. 0. 0. 0. 0. 0. 0. 0. 0. 0. 0. 0.\n",
            " 0. 0. 0. 0. 0. 0. 0. 0. 0. 0. 0. 0. 0. 0. 0. 0. 0. 0. 0. 0. 0. 0. 0. 0.\n",
            " 0. 0. 0. 0. 0. 0. 0. 0. 0. 0. 0. 0. 0. 0. 0. 0. 0. 0. 0. 0. 0. 0. 0. 0.\n",
            " 0.], shape=(625,), dtype=float32)\n"
          ]
        }
      ]
    }
  ]
}