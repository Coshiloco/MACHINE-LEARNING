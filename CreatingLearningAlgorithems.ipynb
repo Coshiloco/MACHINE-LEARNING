{
  "nbformat": 4,
  "nbformat_minor": 0,
  "metadata": {
    "colab": {
      "name": "CreatingLearningAlgorithems.ipynb",
      "provenance": [],
      "authorship_tag": "ABX9TyMUEmrwa0Rx05JzXInNn7j6",
      "include_colab_link": true
    },
    "kernelspec": {
      "name": "python3",
      "display_name": "Python 3"
    },
    "language_info": {
      "name": "python"
    }
  },
  "cells": [
    {
      "cell_type": "markdown",
      "metadata": {
        "id": "view-in-github",
        "colab_type": "text"
      },
      "source": [
        "<a href=\"https://colab.research.google.com/github/Coshiloco/MACHINE-LEARNING/blob/main/CreatingLearningAlgorithems.ipynb\" target=\"_parent\"><img src=\"https://colab.research.google.com/assets/colab-badge.svg\" alt=\"Open In Colab\"/></a>"
      ]
    },
    {
      "cell_type": "code",
      "metadata": {
        "id": "BlZtne4MHVOC"
      },
      "source": [
        "!pip install -q sklearn\n",
        "\n",
        "#Importamos la version de tensorflow\n",
        "\n",
        "%tensorflow_version 2.x\n",
        "\n",
        "#Comenzamos con las importaciones \n",
        "\n",
        "from __future__ import absolute_import,division,print_function,unicode_literals\n",
        "\n",
        "import numpy as np\n",
        "import pandas as pd\n",
        "import matplotlib.pyplot as plt\n",
        "from IPython.display import clear_output\n",
        "from six.moves import urllib\n",
        "\n",
        "import tensorflow.compat.v2.feature_column as fc\n",
        "import tensorflow as tf\n"
      ],
      "execution_count": 2,
      "outputs": []
    }
  ]
}